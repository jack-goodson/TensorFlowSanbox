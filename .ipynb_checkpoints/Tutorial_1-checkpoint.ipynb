{
 "cells": [
  {
   "cell_type": "markdown",
   "metadata": {},
   "source": [
    "# Tensor flow tutorial\n",
    "\n",
    "### This is my first time trying out TF, just a bunch of random operation and stuff getting used to it "
   ]
  },
  {
   "cell_type": "code",
   "execution_count": 1,
   "metadata": {},
   "outputs": [],
   "source": [
    "%config IPCompleter.greedy=True\n",
    "    \n",
    "import tensorflow as tf\n",
    "import pathlib\n",
    "import os\n",
    "import matplotlib.pyplot as plt\n",
    "import pandas as pd\n",
    "import numpy as np\n",
    "np.set_printoptions(precision=4)"
   ]
  },
  {
   "cell_type": "code",
   "execution_count": 2,
   "metadata": {
    "scrolled": true
   },
   "outputs": [
    {
     "name": "stdout",
     "output_type": "stream",
     "text": [
      "<TensorSliceDataset shapes: (), types: tf.int32>\n",
      "8\n",
      "3\n",
      "0\n",
      "8\n",
      "2\n",
      "1\n"
     ]
    }
   ],
   "source": [
    "dataset = tf.data.Dataset.from_tensor_slices([8, 3, 0, 8, 2, 1])\n",
    "print(dataset)\n",
    "for element in dataset:\n",
    "    print(element.numpy())"
   ]
  },
  {
   "cell_type": "code",
   "execution_count": 9,
   "metadata": {},
   "outputs": [
    {
     "name": "stdout",
     "output_type": "stream",
     "text": [
      "22\n"
     ]
    }
   ],
   "source": [
    "print(dataset.reduce(0, lambda state, value: state + value).numpy())"
   ]
  },
  {
   "cell_type": "code",
   "execution_count": 10,
   "metadata": {},
   "outputs": [
    {
     "name": "stdout",
     "output_type": "stream",
     "text": [
      "tf.Tensor([0.044  0.3233 0.2338 0.9092 0.0832 0.1227 0.1113 0.1348 0.7699 0.0665], shape=(10,), dtype=float32)\n",
      "tf.Tensor([0.0184 0.5239 0.1563 0.2238 0.8273 0.5137 0.864  0.236  0.2664 0.2294], shape=(10,), dtype=float32)\n",
      "tf.Tensor([0.0868 0.0135 0.1834 0.0036 0.7822 0.62   0.1627 0.6538 0.9459 0.254 ], shape=(10,), dtype=float32)\n",
      "tf.Tensor([0.6285 0.2551 0.1855 0.7135 0.3459 0.8134 0.3907 0.5594 0.2759 0.6435], shape=(10,), dtype=float32)\n"
     ]
    }
   ],
   "source": [
    "dataset1 = tf.data.Dataset.from_tensor_slices(tf.random.uniform([4, 10]))\n",
    "dataset1.element_spec\n",
    "for elem in dataset1:\n",
    "    print(elem)"
   ]
  },
  {
   "cell_type": "code",
   "execution_count": 17,
   "metadata": {},
   "outputs": [
    {
     "name": "stdout",
     "output_type": "stream",
     "text": [
      "(<tf.Tensor: shape=(), dtype=float32, numpy=0.6818397>, <tf.Tensor: shape=(100,), dtype=int32, numpy=\n",
      "array([12,  4, 18, 31, 96, 31, 74, 47, 12, 63, 97, 26,  5, 81, 56, 45, 76,\n",
      "       22,  2, 35, 38, 48, 97,  6, 18,  7,  9, 12, 11, 47, 89, 76, 10, 81,\n",
      "       68, 84,  6, 87, 74, 54, 91, 10, 62,  7, 81, 30, 57, 77, 25, 57,  0,\n",
      "       87, 17, 25, 14, 30, 85, 33, 78, 77, 30, 36, 54, 76, 91, 82, 61, 13,\n",
      "        5, 54,  6, 90, 30, 44, 59, 69,  8, 50,  9, 75, 35, 14, 26, 52, 93,\n",
      "       99,  9, 90, 84, 48, 87,  9, 67, 20, 97, 31, 35, 71, 57, 77])>)\n",
      "(<tf.Tensor: shape=(), dtype=float32, numpy=0.33408022>, <tf.Tensor: shape=(100,), dtype=int32, numpy=\n",
      "array([26, 44, 36, 56, 12, 62, 64, 96,  7, 94, 42, 93, 97, 34, 43, 83, 40,\n",
      "       58, 34, 20, 48, 33, 21, 54, 90, 90, 65, 75, 88, 79, 17, 71, 34,  8,\n",
      "       13, 70, 58, 52, 28, 95, 64, 75, 39, 94, 95, 67,  5, 72, 99,  1, 61,\n",
      "       39, 49, 88, 32, 33, 23, 15, 72, 98, 18, 88, 53, 95, 38, 63, 14, 96,\n",
      "        5, 39, 55,  7, 44, 90, 66, 95, 25, 37, 75, 38, 71, 66, 51, 93, 24,\n",
      "       41, 10, 78, 54, 77, 16, 43, 77,  2, 21,  5, 26,  3,  1, 96])>)\n",
      "(<tf.Tensor: shape=(), dtype=float32, numpy=0.58215964>, <tf.Tensor: shape=(100,), dtype=int32, numpy=\n",
      "array([61, 32, 12, 70, 93, 15, 40, 99, 34, 86,  8, 20, 24, 79, 81, 52, 61,\n",
      "       21,  2, 42, 35, 82, 50, 13, 18, 77, 90, 55, 12,  0, 74,  2, 96, 68,\n",
      "       22, 80, 50, 44, 99, 25,  5, 51, 69, 84, 27, 53, 35, 64, 51, 45, 46,\n",
      "       10, 87, 49, 51, 87, 70, 25, 32, 58, 22, 98, 26, 27, 88, 59, 14, 28,\n",
      "       88, 73, 80, 98, 25, 35, 74, 68, 95, 55, 81, 54, 77, 55, 36,  6, 84,\n",
      "       64, 25, 89, 55,  6, 93, 33, 40, 69, 90, 92, 37, 48,  5, 54])>)\n",
      "(<tf.Tensor: shape=(), dtype=float32, numpy=0.8536905>, <tf.Tensor: shape=(100,), dtype=int32, numpy=\n",
      "array([ 3, 55, 75, 43, 26, 57, 46, 27, 14, 95, 21, 58, 67, 68, 71, 69, 44,\n",
      "       14, 98, 86, 98, 24, 21, 28, 89, 76, 96, 71, 62,  6, 17, 55, 72, 82,\n",
      "       53, 57, 72, 62, 83, 79, 42, 79, 97, 95, 16, 87, 73, 64, 68, 43, 75,\n",
      "       37, 50, 30, 17, 91, 32, 64, 65, 93, 11, 12, 16, 63, 42, 91, 60, 90,\n",
      "       66, 11, 34, 25, 30, 26, 42, 24, 59, 87, 39,  4, 46, 64, 36, 34, 76,\n",
      "        7, 89, 35, 80, 61, 88, 46, 63, 78, 52, 89, 53, 80, 42, 31])>)\n"
     ]
    }
   ],
   "source": [
    "dataset2 = tf.data.Dataset.from_tensor_slices(\n",
    "   (tf.random.uniform([4]),\n",
    "    tf.random.uniform([4, 100], maxval=100, dtype=tf.int32)))\n",
    "for elem in dataset2:\n",
    "    print(elem)"
   ]
  },
  {
   "cell_type": "code",
   "execution_count": 18,
   "metadata": {},
   "outputs": [
    {
     "name": "stdout",
     "output_type": "stream",
     "text": [
      "Downloading data from https://storage.googleapis.com/tensorflow/tf-keras-datasets/train-labels-idx1-ubyte.gz\n",
      "32768/29515 [=================================] - 0s 1us/step\n",
      "Downloading data from https://storage.googleapis.com/tensorflow/tf-keras-datasets/train-images-idx3-ubyte.gz\n",
      "26427392/26421880 [==============================] - 14s 1us/step\n",
      "Downloading data from https://storage.googleapis.com/tensorflow/tf-keras-datasets/t10k-labels-idx1-ubyte.gz\n",
      "8192/5148 [===============================================] - 0s 0us/step\n",
      "Downloading data from https://storage.googleapis.com/tensorflow/tf-keras-datasets/t10k-images-idx3-ubyte.gz\n",
      "4423680/4422102 [==============================] - 2s 0us/step\n"
     ]
    }
   ],
   "source": [
    "train, test = tf.keras.datasets.fashion_mnist.load_data()\n"
   ]
  },
  {
   "cell_type": "code",
   "execution_count": 21,
   "metadata": {},
   "outputs": [
    {
     "data": {
      "text/plain": [
       "<TensorSliceDataset shapes: ((28, 28), ()), types: (tf.float64, tf.uint8)>"
      ]
     },
     "execution_count": 21,
     "metadata": {},
     "output_type": "execute_result"
    }
   ],
   "source": [
    "images, labels = train\n",
    "images = images/255\n",
    "\n",
    "dataset = tf.data.Dataset.from_tensor_slices((images, labels))\n",
    "dataset\n",
    "\n"
   ]
  },
  {
   "cell_type": "code",
   "execution_count": 33,
   "metadata": {},
   "outputs": [
    {
     "name": "stdout",
     "output_type": "stream",
     "text": [
      "[0 1 2 3 4 5 6 7 8 9]\n",
      "[10 11 12 13 14 15 16 17 18 19]\n",
      "[20 21 22 23 24 25 26 27 28 29]\n",
      "[30 31 32 33 34 35 36 37 38 39]\n",
      "[40 41 42 43 44 45 46 47 48 49]\n",
      "[0 1 2 3 4 5 6 7 8]  =>  [1 2 3 4 5 6 7 8 9]\n",
      "[10 11 12 13 14 15 16 17 18]  =>  [11 12 13 14 15 16 17 18 19]\n",
      "[20 21 22 23 24 25 26 27 28]  =>  [21 22 23 24 25 26 27 28 29]\n",
      "[0 1 2 3 4 5 6 7 8 9]  =>  [10 11 12 13 14]\n",
      "[15 16 17 18 19 20 21 22 23 24]  =>  [25 26 27 28 29]\n",
      "[30 31 32 33 34 35 36 37 38 39]  =>  [40 41 42 43 44]\n"
     ]
    }
   ],
   "source": [
    "range_ds = tf.data.Dataset.range(100000)\n",
    "batches = range_ds.batch(10, drop_remainder=True)\n",
    "\n",
    "for batch in batches.take(5):\n",
    "  print(batch.numpy())\n",
    "\n",
    "@tf.autograph.experimental.do_not_convert\n",
    "def dense_1_step(batch):\n",
    "  # Shift features and labels one step relative to each other.\n",
    "  return batch[:-1], batch[1:]\n",
    "\n",
    "predict_dense_1_step = batches.map(dense_1_step)\n",
    "\n",
    "for features, label in predict_dense_1_step.take(3):\n",
    "  print(features.numpy(), \" => \", label.numpy())\n",
    "\n",
    "batches = range_ds.batch(15, drop_remainder=True)\n",
    "@tf.autograph.experimental.do_not_convert\n",
    "def label_next_5_steps(batch):\n",
    "  return (batch[:-5],   # Take the first 5 steps\n",
    "          batch[-5:])   # take the remainder\n",
    "\n",
    "predict_5_steps = batches.map(label_next_5_steps)\n",
    "\n",
    "for features, label in predict_5_steps.take(3):\n",
    "  print(features.numpy(), \" => \", label.numpy())"
   ]
  },
  {
   "cell_type": "code",
   "execution_count": 35,
   "metadata": {},
   "outputs": [],
   "source": [
    "zip_path = tf.keras.utils.get_file(\n",
    "    origin='https://storage.googleapis.com/download.tensorflow.org/data/creditcard.zip',\n",
    "    fname='creditcard.zip',\n",
    "    extract=True)\n",
    "\n",
    "csv_path = zip_path.replace('.zip', '.csv')\n",
    "\n"
   ]
  },
  {
   "cell_type": "code",
   "execution_count": 36,
   "metadata": {},
   "outputs": [],
   "source": [
    "creditcard_ds = tf.data.experimental.make_csv_dataset(\n",
    "    csv_path, batch_size=1024, label_name=\"Class\",\n",
    "    # Set the column types: 30 floats and an int.\n",
    "    column_defaults=[float()]*30+[int()])"
   ]
  },
  {
   "cell_type": "code",
   "execution_count": 39,
   "metadata": {},
   "outputs": [
    {
     "name": "stdout",
     "output_type": "stream",
     "text": [
      "[0.9958 0.0042]\n"
     ]
    }
   ],
   "source": [
    "@tf.autograph.experimental.do_not_convert\n",
    "def count(counts, batch):\n",
    "  features, labels = batch\n",
    "  class_1 = labels == 1\n",
    "  class_1 = tf.cast(class_1, tf.int32)\n",
    "\n",
    "  class_0 = labels == 0\n",
    "  class_0 = tf.cast(class_0, tf.int32)\n",
    "\n",
    "  counts['class_0'] += tf.reduce_sum(class_0)\n",
    "  counts['class_1'] += tf.reduce_sum(class_1)\n",
    "\n",
    "  return counts\n",
    "\n",
    "counts = creditcard_ds.take(10).reduce(\n",
    "    initial_state={'class_0': 0, 'class_1': 0},\n",
    "    reduce_func = count)\n",
    "\n",
    "counts = np.array([counts['class_0'].numpy(),\n",
    "                   counts['class_1'].numpy()]).astype(np.float32)\n",
    "\n",
    "fractions = counts/counts.sum()\n",
    "print(fractions)"
   ]
  },
  {
   "cell_type": "code",
   "execution_count": null,
   "metadata": {},
   "outputs": [],
   "source": []
  }
 ],
 "metadata": {
  "kernelspec": {
   "display_name": "Python 3",
   "language": "python",
   "name": "python3"
  },
  "language_info": {
   "codemirror_mode": {
    "name": "ipython",
    "version": 3
   },
   "file_extension": ".py",
   "mimetype": "text/x-python",
   "name": "python",
   "nbconvert_exporter": "python",
   "pygments_lexer": "ipython3",
   "version": "3.8.5"
  }
 },
 "nbformat": 4,
 "nbformat_minor": 4
}
